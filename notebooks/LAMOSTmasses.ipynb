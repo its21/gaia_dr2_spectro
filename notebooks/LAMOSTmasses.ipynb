{
 "cells": [
  {
   "cell_type": "code",
   "execution_count": 1,
   "metadata": {
    "collapsed": true
   },
   "outputs": [],
   "source": [
    "%matplotlib inline\n",
    "%load_ext autoreload\n",
    "%autoreload 2"
   ]
  },
  {
   "cell_type": "code",
   "execution_count": 2,
   "metadata": {
    "collapsed": true
   },
   "outputs": [],
   "source": [
    "l = pd.read_hdf('/data/jls/GaiaDR2/spectro/lamost_cannon/LAMOST_results_030518.hdf5')"
   ]
  },
  {
   "cell_type": "code",
   "execution_count": 3,
   "metadata": {
    "collapsed": true
   },
   "outputs": [],
   "source": [
    "l1 = pd.read_hdf('/data/jls/GaiaDR2/spectro/lamost_cannon/LAMOST_results.hdf5')\n",
    "l2 = pd.read_hdf('/data/jls/GaiaDR2/spectro/lamost_cannon/LAMOST_results2.hdf5')\n",
    "l3 = pd.read_hdf('/data/jls/GaiaDR2/spectro/lamost_cannon/LAMOST_results3.hdf5')"
   ]
  },
  {
   "cell_type": "code",
   "execution_count": 14,
   "metadata": {
    "collapsed": true
   },
   "outputs": [],
   "source": [
    "lt = pd.concat([l1,l2,l3],axis=0)"
   ]
  },
  {
   "cell_type": "code",
   "execution_count": 15,
   "metadata": {
    "collapsed": false
   },
   "outputs": [
    {
     "data": {
      "text/plain": [
       "728907"
      ]
     },
     "execution_count": 15,
     "metadata": {},
     "output_type": "execute_result"
    }
   ],
   "source": [
    "len(lt)"
   ]
  },
  {
   "cell_type": "code",
   "execution_count": 18,
   "metadata": {
    "collapsed": false
   },
   "outputs": [],
   "source": [
    "lm = lt.merge(l,on='obsid')"
   ]
  },
  {
   "cell_type": "code",
   "execution_count": 24,
   "metadata": {
    "collapsed": true
   },
   "outputs": [],
   "source": [
    "lt.to_hdf('/data/jls/GaiaDR2/spectro/lamost_cannon/LAMOST_results.hdf5','data')"
   ]
  },
  {
   "cell_type": "code",
   "execution_count": 25,
   "metadata": {
    "collapsed": true
   },
   "outputs": [],
   "source": [
    "lall = pd.read_hdf('/data/jls/GaiaDR2/spectro/LAMOST_input.hdf5')"
   ]
  },
  {
   "cell_type": "code",
   "execution_count": 26,
   "metadata": {
    "collapsed": false
   },
   "outputs": [
    {
     "data": {
      "text/plain": [
       "3177995"
      ]
     },
     "execution_count": 26,
     "metadata": {},
     "output_type": "execute_result"
    }
   ],
   "source": [
    "len(lall)"
   ]
  },
  {
   "cell_type": "code",
   "execution_count": 27,
   "metadata": {
    "collapsed": true
   },
   "outputs": [],
   "source": [
    "lall = lall.drop(['mass','mass_error'],axis=1)"
   ]
  },
  {
   "cell_type": "code",
   "execution_count": 28,
   "metadata": {
    "collapsed": true
   },
   "outputs": [],
   "source": [
    "fltr = (lt.TEFF>4000.)&(lt.TEFF<5250.)&(lt.LOGG>1.)&(lt.LOGG<3.3)&(lt.M_H>-1.5)&(lt.M_H<0.5)\n",
    "fltr &= (lt.r_chi_sq < 3.) #& (t.in_convex_hull == True)\n",
    "lt = lt[fltr].reset_index(drop=True)\n",
    "\n",
    "lall = lall.merge(lt[['obsid','mass','mass_error']], how='left')\n",
    "fltr = lall.mass!=lall.mass\n",
    "\n",
    "lall.loc[fltr,'mass'] = 0.\n",
    "lall.loc[fltr,'mass_error'] = -1."
   ]
  },
  {
   "cell_type": "code",
   "execution_count": 29,
   "metadata": {
    "collapsed": false
   },
   "outputs": [
    {
     "data": {
      "text/plain": [
       "537259"
      ]
     },
     "execution_count": 29,
     "metadata": {},
     "output_type": "execute_result"
    }
   ],
   "source": [
    "np.count_nonzero(lall['mass']>0.)"
   ]
  },
  {
   "cell_type": "code",
   "execution_count": 30,
   "metadata": {
    "collapsed": false
   },
   "outputs": [
    {
     "name": "stderr",
     "output_type": "stream",
     "text": [
      "/data/jls/python2.7/site-packages/pandas/core/generic.py:1101: PerformanceWarning: \n",
      "your performance may suffer as PyTables will pickle object types that it cannot\n",
      "map directly to c-types [inferred_type->mixed,key->block5_values] [items->['designation', 'obsdate', 'planid', 'objtype', 'class', 'subclass', 'magtype', 'tsource', 'fibertype', 'tfrom', 'tcomment', 'mag_use']]\n",
      "\n",
      "  return pytables.to_hdf(path_or_buf, key, self, **kwargs)\n"
     ]
    }
   ],
   "source": [
    "lall.to_hdf('/data/jls/GaiaDR2/spectro/LAMOST_input.hdf5','data')"
   ]
  },
  {
   "cell_type": "code",
   "execution_count": null,
   "metadata": {
    "collapsed": true
   },
   "outputs": [],
   "source": []
  }
 ],
 "metadata": {
  "kernelspec": {
   "display_name": "Python 2",
   "language": "python",
   "name": "python2"
  },
  "language_info": {
   "codemirror_mode": {
    "name": "ipython",
    "version": 2
   },
   "file_extension": ".py",
   "mimetype": "text/x-python",
   "name": "python",
   "nbconvert_exporter": "python",
   "pygments_lexer": "ipython2",
   "version": "2.7.8"
  }
 },
 "nbformat": 4,
 "nbformat_minor": 1
}
