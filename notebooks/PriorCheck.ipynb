{
 "cells": [
  {
   "cell_type": "code",
   "execution_count": 25,
   "metadata": {
    "collapsed": true
   },
   "outputs": [],
   "source": [
    "def thin_age(tau):\n",
    "    if tau<8.:\n",
    "        return np.exp(0.119*tau)\n",
    "    else:\n",
    "        TT, SS = 8., 1.5\n",
    "        return np.exp(-(tau-TT)**2/2./SS**2)*np.exp(0.119*8.)\n",
    "def thick_age(tau):\n",
    "    TT, SS = 10., 2.\n",
    "    return np.exp(-(tau-TT)**2/2./SS**2)/np.sqrt(2.*np.pi*SS**2)\n",
    "def halo_age(tau):\n",
    "    TT, SS = 12., 2.\n",
    "    return np.exp(-(tau-TT)**2/2./SS**2)/np.sqrt(2.*np.pi*SS**2)\n",
    "def bulge_age(tau):\n",
    "    TT, SS = 10, 3.\n",
    "    return np.exp(-(tau-TT)**2/2./SS**2)/np.sqrt(2.*np.pi*SS**2)"
   ]
  },
  {
   "cell_type": "code",
   "execution_count": 6,
   "metadata": {
    "collapsed": true
   },
   "outputs": [],
   "source": [
    "from scipy.integrate import quad"
   ]
  },
  {
   "cell_type": "code",
   "execution_count": 20,
   "metadata": {
    "collapsed": true
   },
   "outputs": [],
   "source": [
    "age_max = 12.589"
   ]
  },
  {
   "cell_type": "code",
   "execution_count": 26,
   "metadata": {
    "collapsed": false
   },
   "outputs": [
    {
     "name": "stdout",
     "output_type": "stream",
     "text": [
      "1.24146152836\n"
     ]
    }
   ],
   "source": [
    "print 1./quad(thin_age, 0., age_max)[0]\n",
    "\n",
    "print 1./quad(thick_age, 0., age_max)[0]\n",
    "\n",
    "print 1./quad(halo_age, 0., age_max)[0]\n",
    "\n",
    "print 1./quad(bulge_age, 0., age_max)[0]"
   ]
  },
  {
   "cell_type": "code",
   "execution_count": 27,
   "metadata": {
    "collapsed": true
   },
   "outputs": [],
   "source": [
    "def thin_metal(tau):\n",
    "    TT, SS = -0.1, 0.3\n",
    "    return np.exp(-(tau-TT)**2/2./SS**2)/np.sqrt(2.*np.pi*SS**2)\n",
    "def thick_metal(tau):\n",
    "    TT, SS = -0.6, 0.5\n",
    "    return np.exp(-(tau-TT)**2/2./SS**2)/np.sqrt(2.*np.pi*SS**2)\n",
    "def halo_metal(tau):\n",
    "    TT, SS = -1.6, 0.5\n",
    "    return np.exp(-(tau-TT)**2/2./SS**2)/np.sqrt(2.*np.pi*SS**2)\n",
    "def bulge_metal(tau):\n",
    "    TT, SS = 0., 0.5\n",
    "    return np.exp(-(tau-TT)**2/2./SS**2)/np.sqrt(2.*np.pi*SS**2)"
   ]
  },
  {
   "cell_type": "code",
   "execution_count": 29,
   "metadata": {
    "collapsed": false
   },
   "outputs": [
    {
     "name": "stdout",
     "output_type": "stream",
     "text": [
      "1.01084036327\n",
      "1.00943158053\n",
      "1.13004004041\n",
      "1.13508089177\n"
     ]
    }
   ],
   "source": [
    "metal_min, metal_max = -2.2, 0.59\n",
    "print 1./quad(thin_metal, metal_min, metal_max)[0]\n",
    "\n",
    "print 1./quad(thick_metal, metal_min, metal_max)[0]\n",
    "\n",
    "print 1./quad(halo_metal, metal_min, metal_max)[0]\n",
    "\n",
    "print 1./quad(bulge_metal, metal_min, metal_max)[0]"
   ]
  },
  {
   "cell_type": "code",
   "execution_count": null,
   "metadata": {
    "collapsed": true
   },
   "outputs": [],
   "source": []
  }
 ],
 "metadata": {
  "kernelspec": {
   "display_name": "Python 2",
   "language": "python",
   "name": "python2"
  },
  "language_info": {
   "codemirror_mode": {
    "name": "ipython",
    "version": 2
   },
   "file_extension": ".py",
   "mimetype": "text/x-python",
   "name": "python",
   "nbconvert_exporter": "python",
   "pygments_lexer": "ipython2",
   "version": "2.7.8"
  }
 },
 "nbformat": 4,
 "nbformat_minor": 1
}
