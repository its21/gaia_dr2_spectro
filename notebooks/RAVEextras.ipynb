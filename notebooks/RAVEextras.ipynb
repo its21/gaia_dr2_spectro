{
 "cells": [
  {
   "cell_type": "code",
   "execution_count": 1,
   "metadata": {
    "collapsed": true
   },
   "outputs": [],
   "source": [
    "%matplotlib inline\n",
    "%load_ext autoreload\n",
    "%autoreload 2"
   ]
  },
  {
   "cell_type": "code",
   "execution_count": 2,
   "metadata": {
    "collapsed": false
   },
   "outputs": [
    {
     "name": "stdout",
     "output_type": "stream",
     "text": [
      "1971\n"
     ]
    }
   ],
   "source": [
    "ravexmatch = pd.read_csv('/data/jls/GaiaDR2/spectro/RAVE_xmatch.csv')\n",
    "rave_dr5 = pd.read_hdf('/data/jls/GaiaDR2/spectro/RAVE_input.hdf5')\n",
    "\n",
    "rave_dr5_x = rave_dr5.merge(ravexmatch,left_on='raveid',right_on='original_ext_source_id',how='inner',suffixes=['','G'])\n",
    "rave_dr5_x_all = rave_dr5.merge(ravexmatch,left_on='raveid',right_on='original_ext_source_id',how='left',suffixes=['','G'])\n",
    "\n",
    "extra = rave_dr5_x[rave_dr5_x.source_id!=rave_dr5_x.source_idG].reset_index(drop=True)\n",
    "print len(extra)\n",
    "\n",
    "columns = ['parallax', 'parallax_error',\n",
    "               'pmra', 'pmdec',\n",
    "               'pmra_error', 'pmdec_error',\n",
    "               'parallax_pmra_corr', 'parallax_pmdec_corr', 'pmra_pmdec_corr',\n",
    "               'source_id','G','GBP','GRP','eG','eGRP','eGBP',\n",
    "               'a_g_val', 'a_g_percentile_lower', 'a_g_percentile_upper']\n",
    "extra = extra.drop(columns, axis=1)\n",
    "\n",
    "extra['source_id']=extra['source_idG']\n",
    "extra = extra.drop(['source_idG'],axis=1)"
   ]
  },
  {
   "cell_type": "code",
   "execution_count": 3,
   "metadata": {
    "collapsed": false
   },
   "outputs": [
    {
     "data": {
      "text/plain": [
       "(450587, 457555)"
      ]
     },
     "execution_count": 3,
     "metadata": {},
     "output_type": "execute_result"
    }
   ],
   "source": [
    "len(ravexmatch), len(rave_dr5)"
   ]
  },
  {
   "cell_type": "code",
   "execution_count": 4,
   "metadata": {
    "collapsed": false
   },
   "outputs": [],
   "source": [
    "nomatch = rave_dr5_x_all[rave_dr5_x_all.original_ext_source_id!=rave_dr5_x_all.original_ext_source_id].reset_index(drop=True)"
   ]
  },
  {
   "cell_type": "code",
   "execution_count": 86,
   "metadata": {
    "collapsed": false
   },
   "outputs": [],
   "source": [
    "import sqlutil\n",
    "from login import wsdbpassword\n",
    "def grab_background(ra, dec,epoch):\n",
    "    return pd.DataFrame.from_dict(\n",
    "                sqlutil.get(\n",
    "                    'select g.*, q3c_dist_pm(g.ra, g.dec, g.pmra, g.pmdec, g.ref_epoch, %0.9f, %0.9f, g.ref_epoch-%0.5f) as dist '\n",
    "                    'from gaia_dr2.gaia_source as g where '\n",
    "                    'q3c_radial_query(g.ra, g.dec, %0.9f, %0.9f, 150./3600.) and '\n",
    "                    'q3c_join_pm(g.ra, g.dec, g.pmra, g.pmdec, g.ref_epoch, %0.9f, %0.9f, g.ref_epoch-%0.5f,%0.5f, 20/3600.)'\n",
    "                    'order by q3c_dist_pm(g.ra, g.dec, g.pmra, g.pmdec, g.ref_epoch, %0.9f, %0.9f, g.ref_epoch-%0.5f) limit 1'\\\n",
    "                        %(ra, dec, epoch, ra,dec,ra,dec,epoch, epoch,ra,dec,epoch),\n",
    "                               host='cappc127',\n",
    "                              user='jason_sanders',\n",
    "                              password=wsdbpassword,\n",
    "                              preamb='set enable_seqscan to off; ' +\n",
    "                              'set enable_mergejoin to off; ' +\n",
    "                              'set enable_hashjoin to off;',\n",
    "                              asDict=True,\n",
    "                              strLength=35))"
   ]
  },
  {
   "cell_type": "code",
   "execution_count": 34,
   "metadata": {
    "collapsed": false
   },
   "outputs": [
    {
     "data": {
      "text/plain": [
       "(12.1673, 10.982999999999999, 10.587, 0.018947, 0.3309469448024524)"
      ]
     },
     "execution_count": 34,
     "metadata": {},
     "output_type": "execute_result"
    },
    {
     "data": {
      "image/png": "[encoded data removed]",
      "text/plain": [
       "<matplotlib.figure.Figure at 0x7ff5682c8c50>"
      ]
     },
     "metadata": {},
     "output_type": "display_data"
    }
   ],
   "source": [
    "xx = 5000\n",
    "g = grab_background(nomatch['ra'][xx],nomatch['dec'][xx], 15.)\n",
    "plt.plot(g['ra'],g['dec'],'.')\n",
    "plt.quiver(g['ra'],g['dec'],g['pmra'],g['pmdec'])\n",
    "plt.plot(g['ra']-g['pmra']*15/3600000.,g['dec']-g['pmdec']*15/3600000.,'.')\n",
    "plt.plot(nomatch['ra'][xx],nomatch['dec'][xx],'s',zorder=-1)\n",
    "g['phot_g_mean_mag'][0], nomatch['J'][xx], nomatch['K'][xx], g['ebv'][0], g['dist'][0]*3600."
   ]
  },
  {
   "cell_type": "code",
   "execution_count": 29,
   "metadata": {
    "collapsed": false
   },
   "outputs": [
    {
     "name": "stdout",
     "output_type": "stream",
     "text": [
      "\n",
      "        select tt.* from mytable as m left join lateral\n",
      "        (select *, q3c_dist_pm(s.ra,s.dec,s.pmra,s.pmdec,s.ref_epoch,m.ra,m.dec,2000.00) as dist from gaia_dr2.gaia_source as s where q3c_join(m.ra,m.dec,s.ra,s.dec,0.01388889) and q3c_join_pm(s.ra,s.dec,s.pmra,s.pmdec,s.ref_epoch,m.ra,m.dec,2000.00,20.,0.00138889) order by q3c_dist_pm(s.ra,s.dec,s.pmra,s.pmdec,s.ref_epoch,m.ra,m.dec,2000.00)  asc limit 1)\n",
      "        as tt on  true  order by xid \n"
     ]
    }
   ],
   "source": [
    "cgextra = crossmatch_gaia(extra,no_proper_motion=False)"
   ]
  },
  {
   "cell_type": "code",
   "execution_count": 33,
   "metadata": {
    "collapsed": false
   },
   "outputs": [],
   "source": [
    "PP = rave_dr5_x[rave_dr5_x.source_id!=rave_dr5_x.source_idG]"
   ]
  },
  {
   "cell_type": "code",
   "execution_count": 32,
   "metadata": {
    "collapsed": false
   },
   "outputs": [
    {
     "data": {
      "text/plain": [
       "1971"
      ]
     },
     "execution_count": 32,
     "metadata": {},
     "output_type": "execute_result"
    }
   ],
   "source": [
    "len(cgextra)"
   ]
  },
  {
   "cell_type": "code",
   "execution_count": 5,
   "metadata": {
    "collapsed": true
   },
   "outputs": [],
   "source": [
    "import sys\n",
    "sys.path.append('../')\n",
    "from cross_match import *"
   ]
  },
  {
   "cell_type": "code",
   "execution_count": 12,
   "metadata": {
    "collapsed": false
   },
   "outputs": [
    {
     "name": "stdout",
     "output_type": "stream",
     "text": [
      "\n",
      "        select tt.* from mytable as m left join lateral\n",
      "        (select *, q3c_dist_pm(s.ra,s.dec,s.pmra,s.pmdec,s.ref_epoch,m.ra,m.dec,2000.00) as dist from gaia_dr2.gaia_source as s where q3c_join(m.ra,m.dec,s.ra,s.dec,0.01388889) and q3c_join_pm(s.ra,s.dec,s.pmra,s.pmdec,s.ref_epoch,m.ra,m.dec,2000.00,20.,0.00138889) order by q3c_dist_pm(s.ra,s.dec,s.pmra,s.pmdec,s.ref_epoch,m.ra,m.dec,2000.00)  asc limit 1)\n",
      "        as tt on  true  order by xid \n"
     ]
    }
   ],
   "source": [
    "cg = crossmatch_gaia(nomatch,no_proper_motion=False)"
   ]
  },
  {
   "cell_type": "code",
   "execution_count": 13,
   "metadata": {
    "collapsed": false
   },
   "outputs": [
    {
     "data": {
      "text/plain": [
       "5787"
      ]
     },
     "execution_count": 13,
     "metadata": {},
     "output_type": "execute_result"
    }
   ],
   "source": [
    "np.count_nonzero(cg.source_id>0.)"
   ]
  },
  {
   "cell_type": "code",
   "execution_count": 12,
   "metadata": {
    "collapsed": false
   },
   "outputs": [
    {
     "name": "stdout",
     "output_type": "stream",
     "text": [
      "\n",
      "        select tt.* from gaia_dr2.gaia_source as tt, mytable as m where tt.source_id=m.source_id\n"
     ]
    }
   ],
   "source": [
    "g = crossmatch_gaia_spectro_id(extra)"
   ]
  },
  {
   "cell_type": "code",
   "execution_count": 27,
   "metadata": {
    "collapsed": false
   },
   "outputs": [
    {
     "name": "stderr",
     "output_type": "stream",
     "text": [
      "/data/jls/python2.7/site-packages/pandas/core/generic.py:1101: PerformanceWarning: \n",
      "your performance may suffer as PyTables will pickle object types that it cannot\n",
      "map directly to c-types [inferred_type->mixed,key->block0_values] [items->['rave_obs_id', 'raveid', 'zeropointflag', 'c1', 'c2', 'c3', 'c4', 'c5', 'c6', 'c7', 'c8', 'c9', 'c10', 'c11', 'c12', 'c13', 'c14', 'c15', 'c16', 'c17', 'c18', 'c19', 'c20', 'RAVE_OBS_ID_x', 'RAVE_OBS_ID_y', 'mag_use', 'original_ext_source_id']]\n",
      "\n",
      "  return pytables.to_hdf(path_or_buf, key, self, **kwargs)\n"
     ]
    }
   ],
   "source": [
    "g.to_hdf('/data/jls/GaiaDR2/spectro/RAVE_input_extra.hdf5','data')"
   ]
  },
  {
   "cell_type": "code",
   "execution_count": 36,
   "metadata": {
    "collapsed": true
   },
   "outputs": [],
   "source": [
    "import sys\n",
    "sys.path.append('../')\n",
    "from cross_match import crossmatch_gaia"
   ]
  },
  {
   "cell_type": "code",
   "execution_count": null,
   "metadata": {
    "collapsed": false
   },
   "outputs": [
    {
     "name": "stdout",
     "output_type": "stream",
     "text": [
      "\n",
      "        select tt.* from mytable as m left join lateral\n",
      "        (select *, q3c_dist_pm(s.ra,s.dec,s.pmra,s.pmdec,s.ref_epoch,m.ra,m.dec,2000.00) as dist from gaia_dr2.gaia_source as s where q3c_join_pm(s.ra,s.dec,s.pmra,s.pmdec,s.ref_epoch,m.ra,m.dec,2000.00,20.,0.00138889) order by q3c_dist_pm(s.ra,s.dec,s.pmra,s.pmdec,s.ref_epoch,m.ra,m.dec,2000.00)  asc limit 1)\n",
      "        as tt on  true  order by xid \n"
     ]
    }
   ],
   "source": []
  },
  {
   "cell_type": "code",
   "execution_count": 24,
   "metadata": {
    "collapsed": false
   },
   "outputs": [
    {
     "data": {
      "text/plain": [
       "[<matplotlib.lines.Line2D at 0x7f5d512d9350>]"
      ]
     },
     "execution_count": 24,
     "metadata": {},
     "output_type": "execute_result"
    },
    {
     "data": {
      "image/png": "[encoded data removed]",
      "text/plain": [
       "<matplotlib.figure.Figure at 0x7f5d51487350>"
      ]
     },
     "metadata": {},
     "output_type": "display_data"
    }
   ],
   "source": [
    "plt.plot((rave_dr5_x.J-rave_dr5_x.K)[rave_dr5_x.source_id==rave_dr5_x.source_idG],\n",
    "         (rave_dr5_x.G-rave_dr5_x.H)[rave_dr5_x.source_id==rave_dr5_x.source_idG],'.',ms=5)\n",
    "plt.plot(g.J-g.K,g.G-g.H,'.',ms=5)"
   ]
  },
  {
   "cell_type": "code",
   "execution_count": 23,
   "metadata": {
    "collapsed": false
   },
   "outputs": [
    {
     "data": {
      "text/plain": [
       "[<matplotlib.lines.Line2D at 0x7f5d512a4a10>]"
      ]
     },
     "execution_count": 23,
     "metadata": {},
     "output_type": "execute_result"
    },
    {
     "data": {
      "image/png": "[encoded data removed]",
      "text/plain": [
       "<matplotlib.figure.Figure at 0x7f5d51437fd0>"
      ]
     },
     "metadata": {},
     "output_type": "display_data"
    }
   ],
   "source": [
    "plt.plot((rave_dr5.J-rave_dr5.K),\n",
    "         (rave_dr5.G-rave_dr5.H),'.',ms=5)"
   ]
  },
  {
   "cell_type": "code",
   "execution_count": 29,
   "metadata": {
    "collapsed": false
   },
   "outputs": [
    {
     "name": "stdout",
     "output_type": "stream",
     "text": [
      "1971\n"
     ]
    }
   ],
   "source": [
    "ravexmatch = pd.read_csv('/data/jls/GaiaDR2/spectro/RAVE_xmatch.csv')\n",
    "rave_dr5 = pd.read_hdf('/data/jls/GaiaDR2/spectro/RAVEON_input.hdf5')\n",
    "\n",
    "rave_dr5_x = rave_dr5.merge(ravexmatch,left_on='raveid',right_on='original_ext_source_id',how='inner',suffixes=['','G'])\n",
    "\n",
    "extra = rave_dr5_x[rave_dr5_x.source_id!=rave_dr5_x.source_idG].reset_index(drop=True)\n",
    "print len(extra)\n",
    "\n",
    "columns = ['parallax', 'parallax_error',\n",
    "               'pmra', 'pmdec',\n",
    "               'pmra_error', 'pmdec_error',\n",
    "               'parallax_pmra_corr', 'parallax_pmdec_corr', 'pmra_pmdec_corr',\n",
    "               'source_id','G','GBP','GRP','eG','eGRP','eGBP',\n",
    "               'a_g_val', 'a_g_percentile_lower', 'a_g_percentile_upper']\n",
    "extra = extra.drop(columns, axis=1)\n",
    "\n",
    "extra['source_id']=extra['source_idG']\n",
    "extra = extra.drop(['source_idG'],axis=1)"
   ]
  },
  {
   "cell_type": "code",
   "execution_count": 30,
   "metadata": {
    "collapsed": false
   },
   "outputs": [
    {
     "name": "stdout",
     "output_type": "stream",
     "text": [
      "\n",
      "        select tt.* from gaia_dr2.gaia_source as tt, mytable as m where tt.source_id=m.source_id\n"
     ]
    }
   ],
   "source": [
    "g = crossmatch_gaia_spectro_id(extra)"
   ]
  },
  {
   "cell_type": "code",
   "execution_count": 31,
   "metadata": {
    "collapsed": true
   },
   "outputs": [],
   "source": [
    "g.to_hdf('/data/jls/GaiaDR2/spectro/RAVEON_input_extra.hdf5','data')"
   ]
  },
  {
   "cell_type": "code",
   "execution_count": 32,
   "metadata": {
    "collapsed": false
   },
   "outputs": [
    {
     "data": {
      "text/plain": [
       "[<matplotlib.lines.Line2D at 0x7f5d34fe81d0>]"
      ]
     },
     "execution_count": 32,
     "metadata": {},
     "output_type": "execute_result"
    },
    {
     "data": {
      "image/png": "[encoded data removed]",
      "text/plain": [
       "<matplotlib.figure.Figure at 0x7f5d34f8e650>"
      ]
     },
     "metadata": {},
     "output_type": "display_data"
    }
   ],
   "source": [
    "plt.plot((rave_dr5_x.J-rave_dr5_x.K)[rave_dr5_x.source_id==rave_dr5_x.source_idG],\n",
    "         (rave_dr5_x.G-rave_dr5_x.H)[rave_dr5_x.source_id==rave_dr5_x.source_idG],'.',ms=5)\n",
    "plt.plot(g.J-g.K,g.G-g.H,'.',ms=5)"
   ]
  },
  {
   "cell_type": "code",
   "execution_count": 37,
   "metadata": {
    "collapsed": false
   },
   "outputs": [
    {
     "data": {
      "text/plain": [
       "[]"
      ]
     },
     "execution_count": 37,
     "metadata": {},
     "output_type": "execute_result"
    },
    {
     "data": {
      "image/png": "[encoded data removed]",
      "text/plain": [
       "<matplotlib.figure.Figure at 0x7f5d35458e90>"
      ]
     },
     "metadata": {},
     "output_type": "display_data"
    }
   ],
   "source": [
    "plt.hist(rave_dr5.G,range=[5.,18.],histtype='step',lw=3,bins=40);\n",
    "plt.hist(g.G,range=[5.,18.],histtype='step',lw=3,bins=40);\n",
    "plt.semilogy()"
   ]
  },
  {
   "cell_type": "code",
   "execution_count": 38,
   "metadata": {
    "collapsed": false
   },
   "outputs": [
    {
     "data": {
      "text/plain": [
       "1971"
      ]
     },
     "execution_count": 38,
     "metadata": {},
     "output_type": "execute_result"
    }
   ],
   "source": [
    "len(extra)"
   ]
  },
  {
   "cell_type": "code",
   "execution_count": 39,
   "metadata": {
    "collapsed": false
   },
   "outputs": [
    {
     "data": {
      "text/plain": [
       "450587"
      ]
     },
     "execution_count": 39,
     "metadata": {},
     "output_type": "execute_result"
    }
   ],
   "source": [
    "len(rave_dr5_x)"
   ]
  },
  {
   "cell_type": "code",
   "execution_count": 104,
   "metadata": {
    "collapsed": true
   },
   "outputs": [],
   "source": [
    "rave_dr5_pm = pd.read_hdf('/data/jls/GaiaDR2/spectro/RAVE_input_pm.hdf5')"
   ]
  },
  {
   "cell_type": "code",
   "execution_count": 105,
   "metadata": {
    "collapsed": false
   },
   "outputs": [
    {
     "data": {
      "text/plain": [
       "0"
      ]
     },
     "execution_count": 105,
     "metadata": {},
     "output_type": "execute_result"
    }
   ],
   "source": [
    "len(rave_dr5_pm)"
   ]
  },
  {
   "cell_type": "code",
   "execution_count": 43,
   "metadata": {
    "collapsed": false
   },
   "outputs": [],
   "source": [
    "rave_dr5_pm.loc[rave_dr5_pm.source_id<0,'source_id']=np.nan\n",
    "rave_dr5.loc[rave_dr5.source_id<0,'source_id']=np.nan"
   ]
  },
  {
   "cell_type": "code",
   "execution_count": 41,
   "metadata": {
    "collapsed": false
   },
   "outputs": [
    {
     "data": {
      "text/plain": [
       "455641"
      ]
     },
     "execution_count": 41,
     "metadata": {},
     "output_type": "execute_result"
    }
   ],
   "source": [
    "np.count_nonzero(rave_dr5.source_id>0)"
   ]
  },
  {
   "cell_type": "code",
   "execution_count": 103,
   "metadata": {
    "collapsed": false
   },
   "outputs": [
    {
     "data": {
      "text/plain": [
       "457555"
      ]
     },
     "execution_count": 103,
     "metadata": {},
     "output_type": "execute_result"
    }
   ],
   "source": [
    "len(rave_dr5_pm.di"
   ]
  },
  {
   "cell_type": "code",
   "execution_count": 47,
   "metadata": {
    "collapsed": false
   },
   "outputs": [
    {
     "data": {
      "text/plain": [
       "Index([u'rave_obs_id', u'raveid', u'ra', u'dec', u'hrv', u'e_hrv',\n",
       "       u'stddev_hrv', u'mad_hrv', u'correlationcoeff', u'peakheight',\n",
       "       u'peakwidth', u'correctionrv', u'skyrv', u'eskyrv',\n",
       "       u'skycorrelationcoeff', u'vrot_sparv', u'zeropointflag', u'c1', u'c2',\n",
       "       u'c3', u'c4', u'c5', u'c6', u'c7', u'c8', u'c9', u'c10', u'c11', u'c12',\n",
       "       u'c13', u'c14', u'c15', u'c16', u'c17', u'c18', u'c19', u'c20', u'teff',\n",
       "       u'logg', u'fe_h', u'o_h', u'mg_h', u'al_h', u'si_h', u'ca_h', u'ni_h',\n",
       "       u'e_teff', u'e_logg', u'e_fe_h', u'e_o_h', u'e_mg_h', u'e_al_h',\n",
       "       u'e_si_h', u'e_ca_h', u'e_ni_h', u'snr', u'r_chi_sq', u'qc',\n",
       "       u'RAVE_OBS_ID_x', u'Teff_N_K', u'eTeff_K', u'logg_N_K', u'elogg_K',\n",
       "       u'Met_N_K', u'eMet_K', u'J', u'eJ', u'H', u'eH', u'K', u'eK',\n",
       "       u'RAVE_OBS_ID_y', u'rho_Tg', u'rho_TZ', u'rho_gZ', u'mag_use', u'mass',\n",
       "       u'mass_error', u'source_id', u'parallax', u'parallax_error', u'pmra',\n",
       "       u'pmra_error', u'pmdec', u'pmdec_error', u'parallax_pmra_corr',\n",
       "       u'parallax_pmdec_corr', u'pmra_pmdec_corr', u'G', u'GBP', u'GRP',\n",
       "       u'a_g_val', u'a_g_percentile_lower', u'a_g_percentile_upper', u'eG',\n",
       "       u'eGRP', u'eGBP'],\n",
       "      dtype='object')"
      ]
     },
     "execution_count": 47,
     "metadata": {},
     "output_type": "execute_result"
    }
   ],
   "source": [
    "rave_dr5_pm.columns"
   ]
  },
  {
   "cell_type": "code",
   "execution_count": 51,
   "metadata": {
    "collapsed": false
   },
   "outputs": [
    {
     "data": {
      "text/plain": [
       "1015"
      ]
     },
     "execution_count": 51,
     "metadata": {},
     "output_type": "execute_result"
    }
   ],
   "source": [
    "np.count_nonzero(rave_dr5.source_id[(rave_dr5.source_id!=rave_dr5_pm.source_id)&(rave_dr5_pm.source_id>0.)]>0)"
   ]
  },
  {
   "cell_type": "code",
   "execution_count": 55,
   "metadata": {
    "collapsed": false
   },
   "outputs": [
    {
     "data": {
      "image/png": "[encoded data removed]",
      "text/plain": [
       "<matplotlib.figure.Figure at 0x7f695be2b250>"
      ]
     },
     "metadata": {},
     "output_type": "display_data"
    }
   ],
   "source": [
    "plt.hist(rave_dr5['G'],range=[-1.,18.],bins=40);"
   ]
  },
  {
   "cell_type": "code",
   "execution_count": 59,
   "metadata": {
    "collapsed": false
   },
   "outputs": [
    {
     "name": "stdout",
     "output_type": "stream",
     "text": [
      "240\n"
     ]
    }
   ],
   "source": [
    "rave_dr5_pm_x = rave_dr5_pm.merge(ravexmatch,left_on='raveid',right_on='original_ext_source_id',how='inner',suffixes=['','G'])\n",
    "rave_dr5_pm_x_all = rave_dr5_pm.merge(ravexmatch,left_on='raveid',right_on='original_ext_source_id',how='left',suffixes=['','G'])\n",
    "\n",
    "extra_pm = rave_dr5_pm_x[rave_dr5_pm_x.source_id!=rave_dr5_pm_x.source_idG].reset_index(drop=True)\n",
    "print len(extra_pm)"
   ]
  },
  {
   "cell_type": "code",
   "execution_count": 60,
   "metadata": {
    "collapsed": false
   },
   "outputs": [],
   "source": [
    "nomatch = rave_dr5_pm_x_all[rave_dr5_pm_x_all.original_ext_source_id!=rave_dr5_pm_x_all.original_ext_source_id].reset_index(drop=True)"
   ]
  },
  {
   "cell_type": "code",
   "execution_count": 65,
   "metadata": {
    "collapsed": false
   },
   "outputs": [
    {
     "data": {
      "text/plain": [
       "(10.8657, 9.846, 9.482999999999999, 0.040692, 0.4810615334158032)"
      ]
     },
     "execution_count": 65,
     "metadata": {},
     "output_type": "execute_result"
    },
    {
     "data": {
      "image/png": "[encoded data removed]",
      "text/plain": [
       "<matplotlib.figure.Figure at 0x7f695bf70f10>"
      ]
     },
     "metadata": {},
     "output_type": "display_data"
    }
   ],
   "source": [
    "xx = 4000\n",
    "g = grab_background(nomatch['ra'][xx],nomatch['dec'][xx], 15.)\n",
    "plt.plot(g['ra'],g['dec'],'.')\n",
    "plt.quiver(g['ra'],g['dec'],g['pmra'],g['pmdec'])\n",
    "plt.plot(g['ra']-g['pmra']*15/3600000.,g['dec']-g['pmdec']*15/3600000.,'.')\n",
    "plt.plot(nomatch['ra'][xx],nomatch['dec'][xx],'s',zorder=-1)\n",
    "g['phot_g_mean_mag'][0], nomatch['J'][xx], nomatch['K'][xx], g['ebv'][0], g['dist'][0]*3600."
   ]
  },
  {
   "cell_type": "code",
   "execution_count": 67,
   "metadata": {
    "collapsed": false
   },
   "outputs": [
    {
     "data": {
      "text/plain": [
       "1207"
      ]
     },
     "execution_count": 67,
     "metadata": {},
     "output_type": "execute_result"
    }
   ],
   "source": [
    "np.count_nonzero(rave_dr5_pm.source_id!=rave_dr5_pm.source_id)"
   ]
  },
  {
   "cell_type": "code",
   "execution_count": 107,
   "metadata": {
    "collapsed": true
   },
   "outputs": [],
   "source": [
    "gg = pd.read_hdf('/data/jls/GaiaDR2/spectro/%s_input_pm.hdf5'%'GES')"
   ]
  },
  {
   "cell_type": "code",
   "execution_count": 78,
   "metadata": {
    "collapsed": false
   },
   "outputs": [
    {
     "data": {
      "text/plain": [
       "0"
      ]
     },
     "execution_count": 78,
     "metadata": {},
     "output_type": "execute_result"
    }
   ],
   "source": [
    "len(gg)"
   ]
  },
  {
   "cell_type": "code",
   "execution_count": 109,
   "metadata": {
    "collapsed": true
   },
   "outputs": [],
   "source": [
    "gg2 = pd.read_hdf('/data/jls/GaiaDR2/spectro/%s_input.hdf5'%'GES')"
   ]
  },
  {
   "cell_type": "code",
   "execution_count": 110,
   "metadata": {
    "collapsed": false
   },
   "outputs": [
    {
     "data": {
      "text/html": [
       "<div>\n",
       "<table border=\"1\" class=\"dataframe\">\n",
       "  <thead>\n",
       "    <tr style=\"text-align: right;\">\n",
       "      <th></th>\n",
       "      <th>CNAME</th>\n",
       "      <th>GES_FLD</th>\n",
       "      <th>OBJECT</th>\n",
       "      <th>GES_TYPE</th>\n",
       "      <th>SETUP</th>\n",
       "      <th>ra</th>\n",
       "      <th>dec</th>\n",
       "      <th>hrv</th>\n",
       "      <th>e_hrv</th>\n",
       "      <th>teff</th>\n",
       "      <th>...</th>\n",
       "      <th>pmra_pmdec_corr</th>\n",
       "      <th>G</th>\n",
       "      <th>GBP</th>\n",
       "      <th>GRP</th>\n",
       "      <th>a_g_val</th>\n",
       "      <th>a_g_percentile_lower</th>\n",
       "      <th>a_g_percentile_upper</th>\n",
       "      <th>eG</th>\n",
       "      <th>eGRP</th>\n",
       "      <th>eGBP</th>\n",
       "    </tr>\n",
       "  </thead>\n",
       "  <tbody>\n",
       "    <tr>\n",
       "      <th>1112</th>\n",
       "      <td>11115400-7619311</td>\n",
       "      <td>Cha_I</td>\n",
       "      <td>11115400-7619311</td>\n",
       "      <td>GE_CL</td>\n",
       "      <td>HR15N</td>\n",
       "      <td>167.97500</td>\n",
       "      <td>-76.32531</td>\n",
       "      <td>16.25000</td>\n",
       "      <td>0.240000</td>\n",
       "      <td>3785.0</td>\n",
       "      <td>...</td>\n",
       "      <td>NaN</td>\n",
       "      <td>NaN</td>\n",
       "      <td>NaN</td>\n",
       "      <td>NaN</td>\n",
       "      <td>NaN</td>\n",
       "      <td>NaN</td>\n",
       "      <td>NaN</td>\n",
       "      <td>NaN</td>\n",
       "      <td>NaN</td>\n",
       "      <td>NaN</td>\n",
       "    </tr>\n",
       "    <tr>\n",
       "      <th>1649</th>\n",
       "      <td>19225696+0130464</td>\n",
       "      <td>Corot</td>\n",
       "      <td>100515333</td>\n",
       "      <td>GE_SD_CR</td>\n",
       "      <td>NaN</td>\n",
       "      <td>290.73733</td>\n",
       "      <td>1.51289</td>\n",
       "      <td>5.20000</td>\n",
       "      <td>0.106053</td>\n",
       "      <td>NaN</td>\n",
       "      <td>...</td>\n",
       "      <td>NaN</td>\n",
       "      <td>NaN</td>\n",
       "      <td>NaN</td>\n",
       "      <td>NaN</td>\n",
       "      <td>NaN</td>\n",
       "      <td>NaN</td>\n",
       "      <td>NaN</td>\n",
       "      <td>NaN</td>\n",
       "      <td>NaN</td>\n",
       "      <td>NaN</td>\n",
       "    </tr>\n",
       "    <tr>\n",
       "      <th>5496</th>\n",
       "      <td>08395401-0757136</td>\n",
       "      <td>GES_MW_08_09</td>\n",
       "      <td>U_2_b_144_67</td>\n",
       "      <td>GE_MW</td>\n",
       "      <td>U580</td>\n",
       "      <td>129.97504</td>\n",
       "      <td>-7.95378</td>\n",
       "      <td>54.06010</td>\n",
       "      <td>0.565685</td>\n",
       "      <td>NaN</td>\n",
       "      <td>...</td>\n",
       "      <td>NaN</td>\n",
       "      <td>NaN</td>\n",
       "      <td>NaN</td>\n",
       "      <td>NaN</td>\n",
       "      <td>NaN</td>\n",
       "      <td>NaN</td>\n",
       "      <td>NaN</td>\n",
       "      <td>NaN</td>\n",
       "      <td>NaN</td>\n",
       "      <td>NaN</td>\n",
       "    </tr>\n",
       "    <tr>\n",
       "      <th>8447</th>\n",
       "      <td>17574777+0444034</td>\n",
       "      <td>GJ699</td>\n",
       "      <td>GJ699</td>\n",
       "      <td>GE_SD_BM</td>\n",
       "      <td>U580</td>\n",
       "      <td>269.44904</td>\n",
       "      <td>4.73428</td>\n",
       "      <td>-109.99000</td>\n",
       "      <td>0.565685</td>\n",
       "      <td>3417.0</td>\n",
       "      <td>...</td>\n",
       "      <td>NaN</td>\n",
       "      <td>NaN</td>\n",
       "      <td>NaN</td>\n",
       "      <td>NaN</td>\n",
       "      <td>NaN</td>\n",
       "      <td>NaN</td>\n",
       "      <td>NaN</td>\n",
       "      <td>NaN</td>\n",
       "      <td>NaN</td>\n",
       "      <td>NaN</td>\n",
       "    </tr>\n",
       "    <tr>\n",
       "      <th>8824</th>\n",
       "      <td>08431303-5329082</td>\n",
       "      <td>IC2391</td>\n",
       "      <td>2MASS08431303-5329082</td>\n",
       "      <td>GE_CL</td>\n",
       "      <td>HR15N</td>\n",
       "      <td>130.80429</td>\n",
       "      <td>-53.48561</td>\n",
       "      <td>22.58880</td>\n",
       "      <td>0.292216</td>\n",
       "      <td>3400.0</td>\n",
       "      <td>...</td>\n",
       "      <td>NaN</td>\n",
       "      <td>NaN</td>\n",
       "      <td>NaN</td>\n",
       "      <td>NaN</td>\n",
       "      <td>NaN</td>\n",
       "      <td>NaN</td>\n",
       "      <td>NaN</td>\n",
       "      <td>NaN</td>\n",
       "      <td>NaN</td>\n",
       "      <td>NaN</td>\n",
       "    </tr>\n",
       "    <tr>\n",
       "      <th>9572</th>\n",
       "      <td>12191274-3655409</td>\n",
       "      <td>GES_MW_12_13</td>\n",
       "      <td>G_2_r_186_92</td>\n",
       "      <td>GE_MW</td>\n",
       "      <td>NaN</td>\n",
       "      <td>184.80308</td>\n",
       "      <td>-36.92803</td>\n",
       "      <td>-8.47425</td>\n",
       "      <td>0.158616</td>\n",
       "      <td>NaN</td>\n",
       "      <td>...</td>\n",
       "      <td>NaN</td>\n",
       "      <td>NaN</td>\n",
       "      <td>NaN</td>\n",
       "      <td>NaN</td>\n",
       "      <td>NaN</td>\n",
       "      <td>NaN</td>\n",
       "      <td>NaN</td>\n",
       "      <td>NaN</td>\n",
       "      <td>NaN</td>\n",
       "      <td>NaN</td>\n",
       "    </tr>\n",
       "    <tr>\n",
       "      <th>11158</th>\n",
       "      <td>15423833-4416383</td>\n",
       "      <td>GES_MW_15_16</td>\n",
       "      <td>U_2_b_30_213</td>\n",
       "      <td>GE_MW</td>\n",
       "      <td>U580</td>\n",
       "      <td>235.65971</td>\n",
       "      <td>-44.27731</td>\n",
       "      <td>-29.41080</td>\n",
       "      <td>0.565685</td>\n",
       "      <td>6065.0</td>\n",
       "      <td>...</td>\n",
       "      <td>NaN</td>\n",
       "      <td>NaN</td>\n",
       "      <td>NaN</td>\n",
       "      <td>NaN</td>\n",
       "      <td>NaN</td>\n",
       "      <td>NaN</td>\n",
       "      <td>NaN</td>\n",
       "      <td>NaN</td>\n",
       "      <td>NaN</td>\n",
       "      <td>NaN</td>\n",
       "    </tr>\n",
       "    <tr>\n",
       "      <th>11854</th>\n",
       "      <td>07592938-6040026</td>\n",
       "      <td>NGC2516</td>\n",
       "      <td>NGC2516_11142</td>\n",
       "      <td>GE_CL</td>\n",
       "      <td>HR15N</td>\n",
       "      <td>119.87242</td>\n",
       "      <td>-60.66739</td>\n",
       "      <td>40.31490</td>\n",
       "      <td>0.273756</td>\n",
       "      <td>3663.0</td>\n",
       "      <td>...</td>\n",
       "      <td>NaN</td>\n",
       "      <td>NaN</td>\n",
       "      <td>NaN</td>\n",
       "      <td>NaN</td>\n",
       "      <td>NaN</td>\n",
       "      <td>NaN</td>\n",
       "      <td>NaN</td>\n",
       "      <td>NaN</td>\n",
       "      <td>NaN</td>\n",
       "      <td>NaN</td>\n",
       "    </tr>\n",
       "    <tr>\n",
       "      <th>12065</th>\n",
       "      <td>07571418-6040524</td>\n",
       "      <td>NGC2516</td>\n",
       "      <td>NGC2516_6029</td>\n",
       "      <td>GE_CL</td>\n",
       "      <td>HR15N</td>\n",
       "      <td>119.30908</td>\n",
       "      <td>-60.68122</td>\n",
       "      <td>30.17520</td>\n",
       "      <td>0.241467</td>\n",
       "      <td>5946.0</td>\n",
       "      <td>...</td>\n",
       "      <td>NaN</td>\n",
       "      <td>NaN</td>\n",
       "      <td>NaN</td>\n",
       "      <td>NaN</td>\n",
       "      <td>NaN</td>\n",
       "      <td>NaN</td>\n",
       "      <td>NaN</td>\n",
       "      <td>NaN</td>\n",
       "      <td>NaN</td>\n",
       "      <td>NaN</td>\n",
       "    </tr>\n",
       "    <tr>\n",
       "      <th>12417</th>\n",
       "      <td>08093671-4911383</td>\n",
       "      <td>NGC2547</td>\n",
       "      <td>T08093671-4911383|T08093671-4911383|T08093671-...</td>\n",
       "      <td>GE_CL</td>\n",
       "      <td>NaN</td>\n",
       "      <td>122.40296</td>\n",
       "      <td>-49.19397</td>\n",
       "      <td>NaN</td>\n",
       "      <td>NaN</td>\n",
       "      <td>NaN</td>\n",
       "      <td>...</td>\n",
       "      <td>NaN</td>\n",
       "      <td>NaN</td>\n",
       "      <td>NaN</td>\n",
       "      <td>NaN</td>\n",
       "      <td>NaN</td>\n",
       "      <td>NaN</td>\n",
       "      <td>NaN</td>\n",
       "      <td>NaN</td>\n",
       "      <td>NaN</td>\n",
       "      <td>NaN</td>\n",
       "    </tr>\n",
       "    <tr>\n",
       "      <th>16396</th>\n",
       "      <td>00240297-7205199</td>\n",
       "      <td>NGC104</td>\n",
       "      <td>409400h</td>\n",
       "      <td>AR_SD_GC</td>\n",
       "      <td>NaN</td>\n",
       "      <td>6.01237</td>\n",
       "      <td>-72.08886</td>\n",
       "      <td>-16.09140</td>\n",
       "      <td>0.565685</td>\n",
       "      <td>NaN</td>\n",
       "      <td>...</td>\n",
       "      <td>NaN</td>\n",
       "      <td>NaN</td>\n",
       "      <td>NaN</td>\n",
       "      <td>NaN</td>\n",
       "      <td>NaN</td>\n",
       "      <td>NaN</td>\n",
       "      <td>NaN</td>\n",
       "      <td>NaN</td>\n",
       "      <td>NaN</td>\n",
       "      <td>NaN</td>\n",
       "    </tr>\n",
       "    <tr>\n",
       "      <th>17416</th>\n",
       "      <td>06403451+0949341</td>\n",
       "      <td>NGC2264</td>\n",
       "      <td>8530-M</td>\n",
       "      <td>GE_CL</td>\n",
       "      <td>HR15N</td>\n",
       "      <td>100.14379</td>\n",
       "      <td>9.82614</td>\n",
       "      <td>23.47360</td>\n",
       "      <td>0.291586</td>\n",
       "      <td>4006.0</td>\n",
       "      <td>...</td>\n",
       "      <td>NaN</td>\n",
       "      <td>NaN</td>\n",
       "      <td>NaN</td>\n",
       "      <td>NaN</td>\n",
       "      <td>NaN</td>\n",
       "      <td>NaN</td>\n",
       "      <td>NaN</td>\n",
       "      <td>NaN</td>\n",
       "      <td>NaN</td>\n",
       "      <td>NaN</td>\n",
       "    </tr>\n",
       "    <tr>\n",
       "      <th>17856</th>\n",
       "      <td>18044279-2418339</td>\n",
       "      <td>NGC6530</td>\n",
       "      <td>18044278-2418339|18044278-2418339</td>\n",
       "      <td>GE_CL</td>\n",
       "      <td>NaN</td>\n",
       "      <td>271.17829</td>\n",
       "      <td>-24.30942</td>\n",
       "      <td>16.76640</td>\n",
       "      <td>0.400000</td>\n",
       "      <td>NaN</td>\n",
       "      <td>...</td>\n",
       "      <td>NaN</td>\n",
       "      <td>NaN</td>\n",
       "      <td>NaN</td>\n",
       "      <td>NaN</td>\n",
       "      <td>NaN</td>\n",
       "      <td>NaN</td>\n",
       "      <td>NaN</td>\n",
       "      <td>NaN</td>\n",
       "      <td>NaN</td>\n",
       "      <td>NaN</td>\n",
       "    </tr>\n",
       "    <tr>\n",
       "      <th>21394</th>\n",
       "      <td>06404091+0927595</td>\n",
       "      <td>NGC2264</td>\n",
       "      <td>2315-M</td>\n",
       "      <td>GE_CL</td>\n",
       "      <td>HR15N</td>\n",
       "      <td>100.17046</td>\n",
       "      <td>9.46653</td>\n",
       "      <td>18.96660</td>\n",
       "      <td>0.255674</td>\n",
       "      <td>3492.0</td>\n",
       "      <td>...</td>\n",
       "      <td>NaN</td>\n",
       "      <td>NaN</td>\n",
       "      <td>NaN</td>\n",
       "      <td>NaN</td>\n",
       "      <td>NaN</td>\n",
       "      <td>NaN</td>\n",
       "      <td>NaN</td>\n",
       "      <td>NaN</td>\n",
       "      <td>NaN</td>\n",
       "      <td>NaN</td>\n",
       "    </tr>\n",
       "    <tr>\n",
       "      <th>23401</th>\n",
       "      <td>07391749+0513163</td>\n",
       "      <td>Procyon</td>\n",
       "      <td>Procyon</td>\n",
       "      <td>AR_SD_BM|GE_SD_BM</td>\n",
       "      <td>U580</td>\n",
       "      <td>114.82287</td>\n",
       "      <td>5.22119</td>\n",
       "      <td>-5.39535</td>\n",
       "      <td>0.100000</td>\n",
       "      <td>6624.0</td>\n",
       "      <td>...</td>\n",
       "      <td>NaN</td>\n",
       "      <td>NaN</td>\n",
       "      <td>NaN</td>\n",
       "      <td>NaN</td>\n",
       "      <td>NaN</td>\n",
       "      <td>NaN</td>\n",
       "      <td>NaN</td>\n",
       "      <td>NaN</td>\n",
       "      <td>NaN</td>\n",
       "      <td>NaN</td>\n",
       "    </tr>\n",
       "    <tr>\n",
       "      <th>24385</th>\n",
       "      <td>14392972-6049560</td>\n",
       "      <td>alf_Cen_A</td>\n",
       "      <td>alf_Cen_A|alf_Cen_A</td>\n",
       "      <td>GE_SD_BM</td>\n",
       "      <td>U580</td>\n",
       "      <td>219.87383</td>\n",
       "      <td>-60.83222</td>\n",
       "      <td>-20.98830</td>\n",
       "      <td>0.565685</td>\n",
       "      <td>5796.0</td>\n",
       "      <td>...</td>\n",
       "      <td>NaN</td>\n",
       "      <td>NaN</td>\n",
       "      <td>NaN</td>\n",
       "      <td>NaN</td>\n",
       "      <td>NaN</td>\n",
       "      <td>NaN</td>\n",
       "      <td>NaN</td>\n",
       "      <td>NaN</td>\n",
       "      <td>NaN</td>\n",
       "      <td>NaN</td>\n",
       "    </tr>\n",
       "    <tr>\n",
       "      <th>24386</th>\n",
       "      <td>14392780-6050031</td>\n",
       "      <td>alf_Cen_B</td>\n",
       "      <td>Alf_Cen_B</td>\n",
       "      <td>AR_SD_BM|GE_SD_BM</td>\n",
       "      <td>U580</td>\n",
       "      <td>219.86583</td>\n",
       "      <td>-60.83419</td>\n",
       "      <td>-23.73970</td>\n",
       "      <td>0.100001</td>\n",
       "      <td>5333.0</td>\n",
       "      <td>...</td>\n",
       "      <td>NaN</td>\n",
       "      <td>NaN</td>\n",
       "      <td>NaN</td>\n",
       "      <td>NaN</td>\n",
       "      <td>NaN</td>\n",
       "      <td>NaN</td>\n",
       "      <td>NaN</td>\n",
       "      <td>NaN</td>\n",
       "      <td>NaN</td>\n",
       "      <td>NaN</td>\n",
       "    </tr>\n",
       "    <tr>\n",
       "      <th>24387</th>\n",
       "      <td>04355530+1630309</td>\n",
       "      <td>alf_Tau</td>\n",
       "      <td>alf_Tau</td>\n",
       "      <td>AR_SD_BM|GE_SD_BM</td>\n",
       "      <td>NaN</td>\n",
       "      <td>68.98042</td>\n",
       "      <td>16.50858</td>\n",
       "      <td>54.46670</td>\n",
       "      <td>0.100001</td>\n",
       "      <td>NaN</td>\n",
       "      <td>...</td>\n",
       "      <td>NaN</td>\n",
       "      <td>NaN</td>\n",
       "      <td>NaN</td>\n",
       "      <td>NaN</td>\n",
       "      <td>NaN</td>\n",
       "      <td>NaN</td>\n",
       "      <td>NaN</td>\n",
       "      <td>NaN</td>\n",
       "      <td>NaN</td>\n",
       "      <td>NaN</td>\n",
       "    </tr>\n",
       "    <tr>\n",
       "      <th>25014</th>\n",
       "      <td>08083232-4722553</td>\n",
       "      <td>gamma2_Vel</td>\n",
       "      <td>M28102|U28102</td>\n",
       "      <td>GE_CL</td>\n",
       "      <td>U580</td>\n",
       "      <td>122.13467</td>\n",
       "      <td>-47.38203</td>\n",
       "      <td>5.11555</td>\n",
       "      <td>0.565685</td>\n",
       "      <td>4655.0</td>\n",
       "      <td>...</td>\n",
       "      <td>NaN</td>\n",
       "      <td>NaN</td>\n",
       "      <td>NaN</td>\n",
       "      <td>NaN</td>\n",
       "      <td>NaN</td>\n",
       "      <td>NaN</td>\n",
       "      <td>NaN</td>\n",
       "      <td>NaN</td>\n",
       "      <td>NaN</td>\n",
       "      <td>NaN</td>\n",
       "    </tr>\n",
       "  </tbody>\n",
       "</table>\n",
       "<p>19 rows × 125 columns</p>\n",
       "</div>"
      ],
      "text/plain": [
       "                  CNAME       GES_FLD  \\\n",
       "1112   11115400-7619311         Cha_I   \n",
       "1649   19225696+0130464         Corot   \n",
       "5496   08395401-0757136  GES_MW_08_09   \n",
       "8447   17574777+0444034         GJ699   \n",
       "8824   08431303-5329082        IC2391   \n",
       "9572   12191274-3655409  GES_MW_12_13   \n",
       "11158  15423833-4416383  GES_MW_15_16   \n",
       "11854  07592938-6040026       NGC2516   \n",
       "12065  07571418-6040524       NGC2516   \n",
       "12417  08093671-4911383       NGC2547   \n",
       "16396  00240297-7205199        NGC104   \n",
       "17416  06403451+0949341       NGC2264   \n",
       "17856  18044279-2418339       NGC6530   \n",
       "21394  06404091+0927595       NGC2264   \n",
       "23401  07391749+0513163       Procyon   \n",
       "24385  14392972-6049560     alf_Cen_A   \n",
       "24386  14392780-6050031     alf_Cen_B   \n",
       "24387  04355530+1630309       alf_Tau   \n",
       "25014  08083232-4722553    gamma2_Vel   \n",
       "\n",
       "                                                  OBJECT           GES_TYPE  \\\n",
       "1112                                    11115400-7619311              GE_CL   \n",
       "1649                                           100515333           GE_SD_CR   \n",
       "5496                                        U_2_b_144_67              GE_MW   \n",
       "8447                                               GJ699           GE_SD_BM   \n",
       "8824                               2MASS08431303-5329082              GE_CL   \n",
       "9572                                        G_2_r_186_92              GE_MW   \n",
       "11158                                       U_2_b_30_213              GE_MW   \n",
       "11854                                      NGC2516_11142              GE_CL   \n",
       "12065                                       NGC2516_6029              GE_CL   \n",
       "12417  T08093671-4911383|T08093671-4911383|T08093671-...              GE_CL   \n",
       "16396                                            409400h           AR_SD_GC   \n",
       "17416                                             8530-M              GE_CL   \n",
       "17856                  18044278-2418339|18044278-2418339              GE_CL   \n",
       "21394                                             2315-M              GE_CL   \n",
       "23401                                            Procyon  AR_SD_BM|GE_SD_BM   \n",
       "24385                                alf_Cen_A|alf_Cen_A           GE_SD_BM   \n",
       "24386                                          Alf_Cen_B  AR_SD_BM|GE_SD_BM   \n",
       "24387                                            alf_Tau  AR_SD_BM|GE_SD_BM   \n",
       "25014                                      M28102|U28102              GE_CL   \n",
       "\n",
       "       SETUP         ra       dec        hrv     e_hrv    teff  ...   \\\n",
       "1112   HR15N  167.97500 -76.32531   16.25000  0.240000  3785.0  ...    \n",
       "1649     NaN  290.73733   1.51289    5.20000  0.106053     NaN  ...    \n",
       "5496    U580  129.97504  -7.95378   54.06010  0.565685     NaN  ...    \n",
       "8447    U580  269.44904   4.73428 -109.99000  0.565685  3417.0  ...    \n",
       "8824   HR15N  130.80429 -53.48561   22.58880  0.292216  3400.0  ...    \n",
       "9572     NaN  184.80308 -36.92803   -8.47425  0.158616     NaN  ...    \n",
       "11158   U580  235.65971 -44.27731  -29.41080  0.565685  6065.0  ...    \n",
       "11854  HR15N  119.87242 -60.66739   40.31490  0.273756  3663.0  ...    \n",
       "12065  HR15N  119.30908 -60.68122   30.17520  0.241467  5946.0  ...    \n",
       "12417    NaN  122.40296 -49.19397        NaN       NaN     NaN  ...    \n",
       "16396    NaN    6.01237 -72.08886  -16.09140  0.565685     NaN  ...    \n",
       "17416  HR15N  100.14379   9.82614   23.47360  0.291586  4006.0  ...    \n",
       "17856    NaN  271.17829 -24.30942   16.76640  0.400000     NaN  ...    \n",
       "21394  HR15N  100.17046   9.46653   18.96660  0.255674  3492.0  ...    \n",
       "23401   U580  114.82287   5.22119   -5.39535  0.100000  6624.0  ...    \n",
       "24385   U580  219.87383 -60.83222  -20.98830  0.565685  5796.0  ...    \n",
       "24386   U580  219.86583 -60.83419  -23.73970  0.100001  5333.0  ...    \n",
       "24387    NaN   68.98042  16.50858   54.46670  0.100001     NaN  ...    \n",
       "25014   U580  122.13467 -47.38203    5.11555  0.565685  4655.0  ...    \n",
       "\n",
       "       pmra_pmdec_corr   G  GBP  GRP  a_g_val  a_g_percentile_lower  \\\n",
       "1112               NaN NaN  NaN  NaN      NaN                   NaN   \n",
       "1649               NaN NaN  NaN  NaN      NaN                   NaN   \n",
       "5496               NaN NaN  NaN  NaN      NaN                   NaN   \n",
       "8447               NaN NaN  NaN  NaN      NaN                   NaN   \n",
       "8824               NaN NaN  NaN  NaN      NaN                   NaN   \n",
       "9572               NaN NaN  NaN  NaN      NaN                   NaN   \n",
       "11158              NaN NaN  NaN  NaN      NaN                   NaN   \n",
       "11854              NaN NaN  NaN  NaN      NaN                   NaN   \n",
       "12065              NaN NaN  NaN  NaN      NaN                   NaN   \n",
       "12417              NaN NaN  NaN  NaN      NaN                   NaN   \n",
       "16396              NaN NaN  NaN  NaN      NaN                   NaN   \n",
       "17416              NaN NaN  NaN  NaN      NaN                   NaN   \n",
       "17856              NaN NaN  NaN  NaN      NaN                   NaN   \n",
       "21394              NaN NaN  NaN  NaN      NaN                   NaN   \n",
       "23401              NaN NaN  NaN  NaN      NaN                   NaN   \n",
       "24385              NaN NaN  NaN  NaN      NaN                   NaN   \n",
       "24386              NaN NaN  NaN  NaN      NaN                   NaN   \n",
       "24387              NaN NaN  NaN  NaN      NaN                   NaN   \n",
       "25014              NaN NaN  NaN  NaN      NaN                   NaN   \n",
       "\n",
       "       a_g_percentile_upper  eG  eGRP  eGBP  \n",
       "1112                    NaN NaN   NaN   NaN  \n",
       "1649                    NaN NaN   NaN   NaN  \n",
       "5496                    NaN NaN   NaN   NaN  \n",
       "8447                    NaN NaN   NaN   NaN  \n",
       "8824                    NaN NaN   NaN   NaN  \n",
       "9572                    NaN NaN   NaN   NaN  \n",
       "11158                   NaN NaN   NaN   NaN  \n",
       "11854                   NaN NaN   NaN   NaN  \n",
       "12065                   NaN NaN   NaN   NaN  \n",
       "12417                   NaN NaN   NaN   NaN  \n",
       "16396                   NaN NaN   NaN   NaN  \n",
       "17416                   NaN NaN   NaN   NaN  \n",
       "17856                   NaN NaN   NaN   NaN  \n",
       "21394                   NaN NaN   NaN   NaN  \n",
       "23401                   NaN NaN   NaN   NaN  \n",
       "24385                   NaN NaN   NaN   NaN  \n",
       "24386                   NaN NaN   NaN   NaN  \n",
       "24387                   NaN NaN   NaN   NaN  \n",
       "25014                   NaN NaN   NaN   NaN  \n",
       "\n",
       "[19 rows x 125 columns]"
      ]
     },
     "execution_count": 110,
     "metadata": {},
     "output_type": "execute_result"
    }
   ],
   "source": [
    "gg2[gg2.source_id<0]"
   ]
  },
  {
   "cell_type": "code",
   "execution_count": 89,
   "metadata": {
    "collapsed": true
   },
   "outputs": [],
   "source": [
    "g = grab_background(129.97504,-7.95378,15.)"
   ]
  },
  {
   "cell_type": "code",
   "execution_count": 91,
   "metadata": {
    "collapsed": false
   },
   "outputs": [
    {
     "data": {
      "text/plain": [
       "[<matplotlib.lines.Line2D at 0x7f695bd34a90>]"
      ]
     },
     "execution_count": 91,
     "metadata": {},
     "output_type": "execute_result"
    },
    {
     "data": {
      "image/png": "[encoded data removed]",
      "text/plain": [
       "<matplotlib.figure.Figure at 0x7f695bdbc710>"
      ]
     },
     "metadata": {},
     "output_type": "display_data"
    }
   ],
   "source": [
    "g = grab_background(129.97504,-7.95378,15.)\n",
    "plt.plot(g['ra'],g['dec'],'.')\n",
    "plt.quiver(g['ra'],g['dec'],g['pmra'],g['pmdec'])\n",
    "plt.plot(g['ra']-g['pmra']*15/3600000.,g['dec']-g['pmdec']*15/3600000.,'.')"
   ]
  },
  {
   "cell_type": "code",
   "execution_count": 93,
   "metadata": {
    "collapsed": false
   },
   "outputs": [
    {
     "data": {
      "text/plain": [
       "0    16.48866\n",
       "Name: ra, dtype: float64"
      ]
     },
     "execution_count": 93,
     "metadata": {},
     "output_type": "execute_result"
    }
   ],
   "source": [
    "(g['ra']-129.97504)*3600."
   ]
  },
  {
   "cell_type": "code",
   "execution_count": 96,
   "metadata": {
    "collapsed": false
   },
   "outputs": [
    {
     "data": {
      "text/plain": [
       "0    16.169201\n",
       "Name: phot_g_mean_mag, dtype: float32"
      ]
     },
     "execution_count": 96,
     "metadata": {},
     "output_type": "execute_result"
    }
   ],
   "source": [
    "g['phot_g_mean_mag']"
   ]
  },
  {
   "cell_type": "code",
   "execution_count": 102,
   "metadata": {
    "collapsed": false
   },
   "outputs": [
    {
     "data": {
      "text/plain": [
       "13.38"
      ]
     },
     "execution_count": 102,
     "metadata": {},
     "output_type": "execute_result"
    }
   ],
   "source": [
    "gg2.iloc[5496]['J']"
   ]
  },
  {
   "cell_type": "code",
   "execution_count": null,
   "metadata": {
    "collapsed": true
   },
   "outputs": [],
   "source": []
  }
 ],
 "metadata": {
  "kernelspec": {
   "display_name": "Python 2",
   "language": "python",
   "name": "python2"
  },
  "language_info": {
   "codemirror_mode": {
    "name": "ipython",
    "version": 2
   },
   "file_extension": ".py",
   "mimetype": "text/x-python",
   "name": "python",
   "nbconvert_exporter": "python",
   "pygments_lexer": "ipython2",
   "version": "2.7.8"
  }
 },
 "nbformat": 4,
 "nbformat_minor": 1
}
